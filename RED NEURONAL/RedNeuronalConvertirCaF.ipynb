{
  "nbformat": 4,
  "nbformat_minor": 0,
  "metadata": {
    "colab": {
      "name": "RedNeuronalConvertirCaF.ipynb",
      "provenance": [],
      "collapsed_sections": []
    },
    "kernelspec": {
      "name": "python3",
      "display_name": "Python 3"
    },
    "language_info": {
      "name": "python"
    }
  },
  "cells": [
    {
      "cell_type": "code",
      "execution_count": 4,
      "metadata": {
        "id": "lL3gXcyK92tG"
      },
      "outputs": [],
      "source": [
        "import tensorflow as tf #Libreria inteligencia artificial\n",
        "import numpy as np #Libreria arreglos numericos"
      ]
    },
    {
      "cell_type": "code",
      "source": [
        "celsius = np.array ([-40 ,-10 ,0 ,8 ,15 ,22, 38],dtype=float)\n",
        "fahrenheit = np.array([-40 ,14 ,32 ,46 ,59 ,72 , 100],dtype=float)"
      ],
      "metadata": {
        "id": "yshNhmiR-1-M"
      },
      "execution_count": 6,
      "outputs": []
    },
    {
      "cell_type": "code",
      "source": [
        "capa = tf.keras.layers.Dense(units=1,input_shape=[1]) #Capa de tipo densa usando Keras las capas densas tienen conexiones desde cada neurona hacia todas\n",
        "modelo = tf.keras.Sequential([capa]) #Modelo keras de tipo secuencial"
      ],
      "metadata": {
        "id": "ARqt8mIsAG8h"
      },
      "execution_count": 7,
      "outputs": []
    },
    {
      "cell_type": "code",
      "source": [
        "modelo.compile(\n",
        "    optimizer = tf.keras.optimizers.Adam(0.1), #optimizador Adam permite a la red saber como ajustar los pesos y cesgos de forma eficiente\n",
        "    loss ='mean_squared_error' #funcion de perdidad usar error cuadratico medio\n",
        ")"
      ],
      "metadata": {
        "id": "_XeEFQQwBxx4"
      },
      "execution_count": 9,
      "outputs": []
    },
    {
      "cell_type": "code",
      "source": [
        "print(\"Comenzando entrenamiento...\")\n",
        "historial = modelo.fit(celsius,fahrenheit,epochs=1000, verbose=False) #Entenamiento de modelo funcion fit #numero de vueltas epochs = 1000 #verbose=false no mostrar tanto texto al entrenar\n",
        "print(\"Modelo entrenado\")"
      ],
      "metadata": {
        "colab": {
          "base_uri": "https://localhost:8080/"
        },
        "id": "xeivy_ZQF6hH",
        "outputId": "6cfc3d91-b865-49af-a864-9d9b00533a3d"
      },
      "execution_count": 10,
      "outputs": [
        {
          "output_type": "stream",
          "name": "stdout",
          "text": [
            "Comenzando entrenamiento...\n",
            "Modelo entrenado\n"
          ]
        }
      ]
    },
    {
      "cell_type": "code",
      "source": [
        "import matplotlib.pyplot as plt #Funcion de perdida nos dice que tan mal estan los resultados en cada vuelta\n",
        "plt.xlabel(\"# Epoca\")\n",
        "plt.ylabel(\"# Magnitud de perdida\")\n",
        "plt.plot(historial.history[\"loss\"])"
      ],
      "metadata": {
        "colab": {
          "base_uri": "https://localhost:8080/",
          "height": 297
        },
        "id": "YDBGxas9G_1V",
        "outputId": "e4b7ff97-a2d4-47ff-aa48-77e6e9e77c18"
      },
      "execution_count": 16,
      "outputs": [
        {
          "output_type": "execute_result",
          "data": {
            "text/plain": [
              "[<matplotlib.lines.Line2D at 0x7fa659c280d0>]"
            ]
          },
          "metadata": {},
          "execution_count": 16
        },
        {
          "output_type": "display_data",
          "data": {
            "text/plain": [
              "<Figure size 432x288 with 1 Axes>"
            ],
            "image/png": "[encoded data removed]"
          },
          "metadata": {
            "needs_background": "light"
          }
        }
      ]
    },
    {
      "cell_type": "code",
      "source": [
        "print(\"Probar red\")\n",
        "resultado = modelo.predict([12.0])\n",
        "print(\"El resultado es: \" + str(resultado) + \" fahrenheit\")"
      ],
      "metadata": {
        "colab": {
          "base_uri": "https://localhost:8080/"
        },
        "id": "0jn6j7m6JtwF",
        "outputId": "a5073c59-acb8-4970-ca77-6f9b76fd87c2"
      },
      "execution_count": 18,
      "outputs": [
        {
          "output_type": "stream",
          "name": "stdout",
          "text": [
            "Probar red\n",
            "El resultado es: [[53.49414]] fahrenheit\n"
          ]
        }
      ]
    },
    {
      "cell_type": "code",
      "source": [
        "print(\"Variables internas del modelo\") #Peso 1.79 #Cesgo 31.9\n",
        "print (capa.get_weights())"
      ],
      "metadata": {
        "colab": {
          "base_uri": "https://localhost:8080/"
        },
        "id": "mVfTZpMlKsz8",
        "outputId": "871b77f7-00a8-43e2-c060-2579c7363151"
      },
      "execution_count": 17,
      "outputs": [
        {
          "output_type": "stream",
          "name": "stdout",
          "text": [
            "Variables internas del modelo\n",
            "[array([[1.7982727]], dtype=float32), array([31.91487], dtype=float32)]\n"
          ]
        }
      ]
    }
  ]
}