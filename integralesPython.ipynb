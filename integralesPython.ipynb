{
  "nbformat": 4,
  "nbformat_minor": 0,
  "metadata": {
    "colab": {
      "name": "integralesPython.ipynb",
      "provenance": [],
      "collapsed_sections": [],
      "authorship_tag": "ABX9TyOIvth6syIVzXwi46hDv7sD",
      "include_colab_link": true
    },
    "kernelspec": {
      "name": "python3",
      "display_name": "Python 3"
    },
    "language_info": {
      "name": "python"
    }
  },
  "cells": [
    {
      "cell_type": "markdown",
      "metadata": {
        "id": "view-in-github",
        "colab_type": "text"
      },
      "source": [
        "<a href=\"https://colab.research.google.com/github/MateoPinedaV/PYTHON/blob/main/integralesPython.ipynb\" target=\"_parent\"><img src=\"https://colab.research.google.com/assets/colab-badge.svg\" alt=\"Open In Colab\"/></a>"
      ]
    },
    {
      "cell_type": "markdown",
      "source": [],
      "metadata": {
        "id": "kCkqJD4fyGQu"
      }
    },
    {
      "cell_type": "code",
      "source": [
        "from sympy import integrate, init_printing\n",
        "from sympy.abc import x\n",
        "init_printing(use_latex=\"mathjax\")"
      ],
      "metadata": {
        "id": "Cs8OTPOlqGE3"
      },
      "execution_count": null,
      "outputs": []
    },
    {
      "cell_type": "code",
      "source": [
        "print('Integral global')\n",
        "x=symbols('x')\n",
        "f=x**2+(2-x)\n",
        "resglo=integrate(f,(x,0,2))\n",
        "print(f'El resultado es {resglo}')"
      ],
      "metadata": {
        "id": "MS4yzVXCyqTY"
      },
      "execution_count": null,
      "outputs": []
    },
    {
      "cell_type": "code",
      "source": [
        "print('Integrales definidas')\n",
        "x=symbols('x')\n",
        "f=2-x\n",
        "res1=integrate(f,(x,1,2))\n",
        "print(f'El resultado es {res1}')"
      ],
      "metadata": {
        "colab": {
          "base_uri": "https://localhost:8080/"
        },
        "id": "595tUhAMqM-p",
        "outputId": "25f6cd0b-a732-4cf4-b6f4-605b7575313f"
      },
      "execution_count": null,
      "outputs": [
        {
          "output_type": "stream",
          "name": "stdout",
          "text": [
            "Integrales definidas\n",
            "El resultado es 1/2\n"
          ]
        }
      ]
    },
    {
      "cell_type": "code",
      "source": [
        "print('Integrales definidas')\n",
        "x=symbols('x')\n",
        "f=x**2\n",
        "res2=integrate(f,(x,0,1))\n",
        "print(f'El resultado es {res2}')"
      ],
      "metadata": {
        "colab": {
          "base_uri": "https://localhost:8080/"
        },
        "outputId": "b68f5fe4-3aa9-4246-b973-3c8f9e29892c",
        "id": "Cp7ZXZbuuJJO"
      },
      "execution_count": null,
      "outputs": [
        {
          "output_type": "stream",
          "name": "stdout",
          "text": [
            "Integrales definidas\n",
            "El resultado es 1/3\n"
          ]
        }
      ]
    },
    {
      "cell_type": "code",
      "source": [
        "Resultado = res1 + res2\n",
        "print(f'Resultado {Resultado}')"
      ],
      "metadata": {
        "colab": {
          "base_uri": "https://localhost:8080/"
        },
        "id": "CPeBUwOfuX2p",
        "outputId": "1309a25e-09be-439e-956c-5c9cdf791f0e"
      },
      "execution_count": null,
      "outputs": [
        {
          "output_type": "stream",
          "name": "stdout",
          "text": [
            "Resultado 5/6\n"
          ]
        }
      ]
    }
  ]
}