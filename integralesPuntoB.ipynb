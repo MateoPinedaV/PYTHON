{
  "nbformat": 4,
  "nbformat_minor": 0,
  "metadata": {
    "colab": {
      "name": "integralesPuntoB.ipynb",
      "provenance": [],
      "collapsed_sections": [],
      "authorship_tag": "ABX9TyOCwQoUyvO/6rFJ/YplMA+Q",
      "include_colab_link": true
    },
    "kernelspec": {
      "name": "python3",
      "display_name": "Python 3"
    },
    "language_info": {
      "name": "python"
    }
  },
  "cells": [
    {
      "cell_type": "markdown",
      "metadata": {
        "id": "view-in-github",
        "colab_type": "text"
      },
      "source": [
        "<a href=\"https://colab.research.google.com/github/MateoPinedaV/PYTHON/blob/main/integralesPuntoB.ipynb\" target=\"_parent\"><img src=\"https://colab.research.google.com/assets/colab-badge.svg\" alt=\"Open In Colab\"/></a>"
      ]
    },
    {
      "cell_type": "markdown",
      "source": [],
      "metadata": {
        "id": "kCkqJD4fyGQu"
      }
    },
    {
      "cell_type": "code",
      "source": [
        "from sympy import integrate, init_printing\n",
        "from sympy.abc import x,c\n",
        "init_printing(use_latex=\"mathjax\")"
      ],
      "metadata": {
        "id": "Cs8OTPOlqGE3"
      },
      "execution_count": null,
      "outputs": []
    },
    {
      "cell_type": "code",
      "source": [
        "from sympy.solvers.ode.ode import symbols\n",
        "print('Integral global')\n",
        "x=symbols('x')\n",
        "c=symbols('c')\n",
        "f=x+(1-x)/(1-c)\n",
        "resglo=integrate(f,(x,0,1))\n",
        "print(f'El resultado es {resglo}')"
      ],
      "metadata": {
        "id": "MS4yzVXCyqTY"
      },
      "execution_count": null,
      "outputs": []
    },
    {
      "cell_type": "code",
      "source": [
        "print('Integrales definidas')\n",
        "x=symbols('x')\n",
        "f=x\n",
        "res1=integrate(f,(x,0,c))\n",
        "print(f'El resultado es {res1}')"
      ],
      "metadata": {
        "id": "595tUhAMqM-p"
      },
      "execution_count": null,
      "outputs": []
    },
    {
      "cell_type": "code",
      "source": [
        "print('Integrales definidas')\n",
        "x=symbols('x')\n",
        "f=(1-x)/(1-c)\n",
        "res2=integrate(f,(x,c,1))\n",
        "print(f'El resultado es {res2}')"
      ],
      "metadata": {
        "id": "Cp7ZXZbuuJJO"
      },
      "execution_count": null,
      "outputs": []
    },
    {
      "cell_type": "code",
      "source": [
        "Resultado = res1 + res2\n",
        "print(f'Resultado {Resultado}')"
      ],
      "metadata": {
        "id": "CPeBUwOfuX2p"
      },
      "execution_count": null,
      "outputs": []
    }
  ]
}